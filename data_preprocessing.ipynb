{
 "cells": [
  {
   "cell_type": "code",
   "execution_count": 7,
   "metadata": {},
   "outputs": [],
   "source": [
    "import pandas as pd\n",
    "from sklearn.feature_extraction.text import TfidfVectorizer\n",
    "from sklearn.metrics.pairwise import linear_kernel\n",
    "from surprise import Reader, Dataset, SVD\n",
    "from surprise.model_selection.validation import cross_validate\n"
   ]
  },
  {
   "cell_type": "code",
   "execution_count": 2,
   "metadata": {},
   "outputs": [],
   "source": [
    "reddit_user_data = pd.read_csv('reddit_user_data_count.csv')\n",
    "subreddit_data = pd.read_csv('subreddit_info.csv')"
   ]
  },
  {
   "cell_type": "code",
   "execution_count": 3,
   "metadata": {},
   "outputs": [
    {
     "data": {
      "text/html": [
       "<div>\n",
       "<style scoped>\n",
       "    .dataframe tbody tr th:only-of-type {\n",
       "        vertical-align: middle;\n",
       "    }\n",
       "\n",
       "    .dataframe tbody tr th {\n",
       "        vertical-align: top;\n",
       "    }\n",
       "\n",
       "    .dataframe thead th {\n",
       "        text-align: right;\n",
       "    }\n",
       "</style>\n",
       "<table border=\"1\" class=\"dataframe\">\n",
       "  <thead>\n",
       "    <tr style=\"text-align: right;\">\n",
       "      <th></th>\n",
       "      <th>user</th>\n",
       "      <th>subreddit</th>\n",
       "      <th>count</th>\n",
       "    </tr>\n",
       "  </thead>\n",
       "  <tbody>\n",
       "    <tr>\n",
       "      <th>0</th>\n",
       "      <td>------Username------</td>\n",
       "      <td>AskReddit</td>\n",
       "      <td>20</td>\n",
       "    </tr>\n",
       "    <tr>\n",
       "      <th>1</th>\n",
       "      <td>------Username------</td>\n",
       "      <td>Barca</td>\n",
       "      <td>9</td>\n",
       "    </tr>\n",
       "    <tr>\n",
       "      <th>2</th>\n",
       "      <td>------Username------</td>\n",
       "      <td>FIFA</td>\n",
       "      <td>4</td>\n",
       "    </tr>\n",
       "    <tr>\n",
       "      <th>3</th>\n",
       "      <td>------Username------</td>\n",
       "      <td>MMA</td>\n",
       "      <td>5</td>\n",
       "    </tr>\n",
       "    <tr>\n",
       "      <th>4</th>\n",
       "      <td>------Username------</td>\n",
       "      <td>RioGrandeValley</td>\n",
       "      <td>3</td>\n",
       "    </tr>\n",
       "  </tbody>\n",
       "</table>\n",
       "</div>"
      ],
      "text/plain": [
       "                   user        subreddit  count\n",
       "0  ------Username------        AskReddit     20\n",
       "1  ------Username------            Barca      9\n",
       "2  ------Username------             FIFA      4\n",
       "3  ------Username------              MMA      5\n",
       "4  ------Username------  RioGrandeValley      3"
      ]
     },
     "execution_count": 3,
     "metadata": {},
     "output_type": "execute_result"
    }
   ],
   "source": [
    "reddit_user_data.head()"
   ]
  },
  {
   "cell_type": "code",
   "execution_count": 4,
   "metadata": {},
   "outputs": [
    {
     "data": {
      "text/html": [
       "<div>\n",
       "<style scoped>\n",
       "    .dataframe tbody tr th:only-of-type {\n",
       "        vertical-align: middle;\n",
       "    }\n",
       "\n",
       "    .dataframe tbody tr th {\n",
       "        vertical-align: top;\n",
       "    }\n",
       "\n",
       "    .dataframe thead th {\n",
       "        text-align: right;\n",
       "    }\n",
       "</style>\n",
       "<table border=\"1\" class=\"dataframe\">\n",
       "  <thead>\n",
       "    <tr style=\"text-align: right;\">\n",
       "      <th></th>\n",
       "      <th>subreddit</th>\n",
       "      <th>num_subscribers</th>\n",
       "      <th>over18</th>\n",
       "      <th>public_description</th>\n",
       "    </tr>\n",
       "  </thead>\n",
       "  <tbody>\n",
       "    <tr>\n",
       "      <th>0</th>\n",
       "      <td>ChoosingBeggars</td>\n",
       "      <td>2134849.0</td>\n",
       "      <td>False</td>\n",
       "      <td>This subreddit is for posting screenshots, pic...</td>\n",
       "    </tr>\n",
       "    <tr>\n",
       "      <th>1</th>\n",
       "      <td>Python</td>\n",
       "      <td>809272.0</td>\n",
       "      <td>False</td>\n",
       "      <td>News about the programming language Python. If...</td>\n",
       "    </tr>\n",
       "    <tr>\n",
       "      <th>2</th>\n",
       "      <td>interestingasfuck</td>\n",
       "      <td>8092462.0</td>\n",
       "      <td>False</td>\n",
       "      <td>For anything that is InterestingAsFuck</td>\n",
       "    </tr>\n",
       "    <tr>\n",
       "      <th>3</th>\n",
       "      <td>PublicFreakout</td>\n",
       "      <td>3257059.0</td>\n",
       "      <td>False</td>\n",
       "      <td>A subreddit dedicated to people freaking out, ...</td>\n",
       "    </tr>\n",
       "    <tr>\n",
       "      <th>4</th>\n",
       "      <td>ShitMomGroupsSay</td>\n",
       "      <td>258681.0</td>\n",
       "      <td>False</td>\n",
       "      <td>Share the drama. \\n\\nEssential oils cure all? ...</td>\n",
       "    </tr>\n",
       "  </tbody>\n",
       "</table>\n",
       "</div>"
      ],
      "text/plain": [
       "           subreddit  num_subscribers  over18  \\\n",
       "0    ChoosingBeggars        2134849.0   False   \n",
       "1             Python         809272.0   False   \n",
       "2  interestingasfuck        8092462.0   False   \n",
       "3     PublicFreakout        3257059.0   False   \n",
       "4   ShitMomGroupsSay         258681.0   False   \n",
       "\n",
       "                                  public_description  \n",
       "0  This subreddit is for posting screenshots, pic...  \n",
       "1  News about the programming language Python. If...  \n",
       "2             For anything that is InterestingAsFuck  \n",
       "3  A subreddit dedicated to people freaking out, ...  \n",
       "4  Share the drama. \\n\\nEssential oils cure all? ...  "
      ]
     },
     "execution_count": 4,
     "metadata": {},
     "output_type": "execute_result"
    }
   ],
   "source": [
    "subreddit_data.head()"
   ]
  },
  {
   "cell_type": "code",
   "execution_count": 8,
   "metadata": {},
   "outputs": [],
   "source": [
    "reader = Reader()\n",
    "\n",
    "data = Dataset.load_from_df(reddit_user_data[['user','subreddit','count']],reader)\n",
    "\n",
    "svd = SVD()"
   ]
  },
  {
   "cell_type": "markdown",
   "metadata": {},
   "source": [
    "Once the data and model for product recommendation are ready, the model can be evaluated using cross-validation as follows:"
   ]
  },
  {
   "cell_type": "code",
   "execution_count": 9,
   "metadata": {},
   "outputs": [
    {
     "name": "stdout",
     "output_type": "stream",
     "text": [
      "Evaluating RMSE, MAE of algorithm SVD on 5 split(s).\n",
      "\n",
      "                  Fold 1  Fold 2  Fold 3  Fold 4  Fold 5  Mean    Std     \n",
      "RMSE (testset)    48.9749 47.6031 49.0220 47.7506 49.0976 48.4896 0.6664  \n",
      "MAE (testset)     10.9160 10.7682 10.9426 10.7263 10.8842 10.8475 0.0849  \n",
      "Fit time          174.26  204.24  215.34  209.60  231.73  207.03  18.80   \n",
      "Test time         11.02   19.15   12.93   15.92   10.77   13.96   3.18    \n"
     ]
    },
    {
     "data": {
      "text/plain": [
       "{'test_rmse': array([48.97491516, 47.60311093, 49.02199194, 47.75061225, 49.09759397]),\n",
       " 'test_mae': array([10.91602827, 10.76816833, 10.94256744, 10.72628376, 10.8842233 ]),\n",
       " 'fit_time': (174.25849509239197,\n",
       "  204.24384951591492,\n",
       "  215.33659195899963,\n",
       "  209.59552097320557,\n",
       "  231.7269628047943),\n",
       " 'test_time': (11.020808458328247,\n",
       "  19.146918296813965,\n",
       "  12.930643081665039,\n",
       "  15.917253971099854,\n",
       "  10.773241758346558)}"
      ]
     },
     "execution_count": 9,
     "metadata": {},
     "output_type": "execute_result"
    }
   ],
   "source": [
    "cross_validate(svd, data, measures=['RMSE', 'MAE'], cv=5, verbose=True)"
   ]
  },
  {
   "cell_type": "markdown",
   "metadata": {},
   "source": [
    "Once the model has been evaluated to our satisfaction, then we can re-train the model using the entire training dataset:"
   ]
  },
  {
   "cell_type": "code",
   "execution_count": 10,
   "metadata": {},
   "outputs": [
    {
     "data": {
      "text/plain": [
       "<surprise.prediction_algorithms.matrix_factorization.SVD at 0x159d87c9fd0>"
      ]
     },
     "execution_count": 10,
     "metadata": {},
     "output_type": "execute_result"
    }
   ],
   "source": [
    "trainset = data.build_full_trainset()\n",
    "svd.fit(trainset)"
   ]
  },
  {
   "cell_type": "code",
   "execution_count": 21,
   "metadata": {},
   "outputs": [],
   "source": [
    "titles = subreddit_data.copy()\n",
    "titles['Estimate_Score'] = titles['subreddit'].apply(lambda x: svd.predict('Python', x).est)"
   ]
  },
  {
   "cell_type": "code",
   "execution_count": 19,
   "metadata": {},
   "outputs": [
    {
     "data": {
      "text/html": [
       "<div>\n",
       "<style scoped>\n",
       "    .dataframe tbody tr th:only-of-type {\n",
       "        vertical-align: middle;\n",
       "    }\n",
       "\n",
       "    .dataframe tbody tr th {\n",
       "        vertical-align: top;\n",
       "    }\n",
       "\n",
       "    .dataframe thead th {\n",
       "        text-align: right;\n",
       "    }\n",
       "</style>\n",
       "<table border=\"1\" class=\"dataframe\">\n",
       "  <thead>\n",
       "    <tr style=\"text-align: right;\">\n",
       "      <th></th>\n",
       "      <th>subreddit</th>\n",
       "      <th>num_subscribers</th>\n",
       "      <th>over18</th>\n",
       "      <th>public_description</th>\n",
       "      <th>Estimate_Score</th>\n",
       "    </tr>\n",
       "  </thead>\n",
       "  <tbody>\n",
       "    <tr>\n",
       "      <th>57840</th>\n",
       "      <td>DiamondCasinoHeist</td>\n",
       "      <td>45.0</td>\n",
       "      <td>False</td>\n",
       "      <td>A community for people who want to play the Di...</td>\n",
       "      <td>5</td>\n",
       "    </tr>\n",
       "    <tr>\n",
       "      <th>57843</th>\n",
       "      <td>CupToast</td>\n",
       "      <td>463.0</td>\n",
       "      <td>False</td>\n",
       "      <td>a subreddit dedicated to adorable twitter arti...</td>\n",
       "      <td>5</td>\n",
       "    </tr>\n",
       "    <tr>\n",
       "      <th>57854</th>\n",
       "      <td>MakoReizei</td>\n",
       "      <td>1140.0</td>\n",
       "      <td>False</td>\n",
       "      <td>please dont beeb beeb because im sleeb</td>\n",
       "      <td>5</td>\n",
       "    </tr>\n",
       "    <tr>\n",
       "      <th>57829</th>\n",
       "      <td>SanAntonioFC</td>\n",
       "      <td>501.0</td>\n",
       "      <td>False</td>\n",
       "      <td>San Antonio FC is a team founded in 2016 that ...</td>\n",
       "      <td>5</td>\n",
       "    </tr>\n",
       "    <tr>\n",
       "      <th>57844</th>\n",
       "      <td>KayFanClub</td>\n",
       "      <td>2001.0</td>\n",
       "      <td>False</td>\n",
       "      <td>Welcome to KayFanClub (Our Acronym is KFC.) He...</td>\n",
       "      <td>5</td>\n",
       "    </tr>\n",
       "    <tr>\n",
       "      <th>57845</th>\n",
       "      <td>Turtle_Team_GuP</td>\n",
       "      <td>1474.0</td>\n",
       "      <td>False</td>\n",
       "      <td>Dedicated to \\nAnzu Kadotani, Momo and Yuzu - ...</td>\n",
       "      <td>5</td>\n",
       "    </tr>\n",
       "    <tr>\n",
       "      <th>57846</th>\n",
       "      <td>Erika_empire</td>\n",
       "      <td>2258.0</td>\n",
       "      <td>False</td>\n",
       "      <td>Hello! Welcome to Erika's Empire. This is a Re...</td>\n",
       "      <td>5</td>\n",
       "    </tr>\n",
       "    <tr>\n",
       "      <th>57847</th>\n",
       "      <td>Underrated_GuP</td>\n",
       "      <td>3006.0</td>\n",
       "      <td>False</td>\n",
       "      <td>A place for all of the underrated/unmentioned ...</td>\n",
       "      <td>5</td>\n",
       "    </tr>\n",
       "    <tr>\n",
       "      <th>57848</th>\n",
       "      <td>h2odelirious</td>\n",
       "      <td>589.0</td>\n",
       "      <td>False</td>\n",
       "      <td>Jonathan, also known as H2O Delirious is a You...</td>\n",
       "      <td>5</td>\n",
       "    </tr>\n",
       "    <tr>\n",
       "      <th>57849</th>\n",
       "      <td>NishiWarCrimes</td>\n",
       "      <td>633.0</td>\n",
       "      <td>False</td>\n",
       "      <td>This is for fans of the GUP character Nishi an...</td>\n",
       "      <td>5</td>\n",
       "    </tr>\n",
       "    <tr>\n",
       "      <th>57850</th>\n",
       "      <td>HighSchoolFleet</td>\n",
       "      <td>194.0</td>\n",
       "      <td>False</td>\n",
       "      <td>A subreddit dedicated to \"High School Fleet\" (...</td>\n",
       "      <td>5</td>\n",
       "    </tr>\n",
       "    <tr>\n",
       "      <th>57851</th>\n",
       "      <td>Quick_Rosehip</td>\n",
       "      <td>1164.0</td>\n",
       "      <td>False</td>\n",
       "      <td>A place to post about the speed demon of St.G’...</td>\n",
       "      <td>5</td>\n",
       "    </tr>\n",
       "    <tr>\n",
       "      <th>57852</th>\n",
       "      <td>Duck_Team_GuP</td>\n",
       "      <td>146.0</td>\n",
       "      <td>False</td>\n",
       "      <td>For the fans of Ōarai's Volleyball/Sensha-dō t...</td>\n",
       "      <td>5</td>\n",
       "    </tr>\n",
       "    <tr>\n",
       "      <th>57853</th>\n",
       "      <td>Marie_GuP</td>\n",
       "      <td>661.0</td>\n",
       "      <td>False</td>\n",
       "      <td>A subreddit for Marie from Girls und Panzer</td>\n",
       "      <td>5</td>\n",
       "    </tr>\n",
       "    <tr>\n",
       "      <th>57855</th>\n",
       "      <td>Celeb_Collages</td>\n",
       "      <td>9763.0</td>\n",
       "      <td>False</td>\n",
       "      <td>The place on Reddit  where you can upload and ...</td>\n",
       "      <td>5</td>\n",
       "    </tr>\n",
       "  </tbody>\n",
       "</table>\n",
       "</div>"
      ],
      "text/plain": [
       "                subreddit  num_subscribers  over18  \\\n",
       "57840  DiamondCasinoHeist             45.0   False   \n",
       "57843            CupToast            463.0   False   \n",
       "57854          MakoReizei           1140.0   False   \n",
       "57829        SanAntonioFC            501.0   False   \n",
       "57844          KayFanClub           2001.0   False   \n",
       "57845     Turtle_Team_GuP           1474.0   False   \n",
       "57846        Erika_empire           2258.0   False   \n",
       "57847      Underrated_GuP           3006.0   False   \n",
       "57848        h2odelirious            589.0   False   \n",
       "57849      NishiWarCrimes            633.0   False   \n",
       "57850     HighSchoolFleet            194.0   False   \n",
       "57851       Quick_Rosehip           1164.0   False   \n",
       "57852       Duck_Team_GuP            146.0   False   \n",
       "57853           Marie_GuP            661.0   False   \n",
       "57855      Celeb_Collages           9763.0   False   \n",
       "\n",
       "                                      public_description  Estimate_Score  \n",
       "57840  A community for people who want to play the Di...               5  \n",
       "57843  a subreddit dedicated to adorable twitter arti...               5  \n",
       "57854             please dont beeb beeb because im sleeb               5  \n",
       "57829  San Antonio FC is a team founded in 2016 that ...               5  \n",
       "57844  Welcome to KayFanClub (Our Acronym is KFC.) He...               5  \n",
       "57845  Dedicated to \\nAnzu Kadotani, Momo and Yuzu - ...               5  \n",
       "57846  Hello! Welcome to Erika's Empire. This is a Re...               5  \n",
       "57847  A place for all of the underrated/unmentioned ...               5  \n",
       "57848  Jonathan, also known as H2O Delirious is a You...               5  \n",
       "57849  This is for fans of the GUP character Nishi an...               5  \n",
       "57850  A subreddit dedicated to \"High School Fleet\" (...               5  \n",
       "57851  A place to post about the speed demon of St.G’...               5  \n",
       "57852  For the fans of Ōarai's Volleyball/Sensha-dō t...               5  \n",
       "57853        A subreddit for Marie from Girls und Panzer               5  \n",
       "57855  The place on Reddit  where you can upload and ...               5  "
      ]
     },
     "execution_count": 19,
     "metadata": {},
     "output_type": "execute_result"
    }
   ],
   "source": [
    "titles = titles.sort_values(by=['Estimate_Score'], ascending=False)\n",
    "titles.tail(15)"
   ]
  },
  {
   "cell_type": "code",
   "execution_count": null,
   "metadata": {},
   "outputs": [],
   "source": []
  },
  {
   "cell_type": "code",
   "execution_count": null,
   "metadata": {},
   "outputs": [],
   "source": []
  },
  {
   "cell_type": "code",
   "execution_count": null,
   "metadata": {},
   "outputs": [],
   "source": []
  },
  {
   "cell_type": "code",
   "execution_count": null,
   "metadata": {},
   "outputs": [],
   "source": []
  },
  {
   "cell_type": "code",
   "execution_count": 5,
   "metadata": {},
   "outputs": [
    {
     "data": {
      "text/html": [
       "<div>\n",
       "<style scoped>\n",
       "    .dataframe tbody tr th:only-of-type {\n",
       "        vertical-align: middle;\n",
       "    }\n",
       "\n",
       "    .dataframe tbody tr th {\n",
       "        vertical-align: top;\n",
       "    }\n",
       "\n",
       "    .dataframe thead th {\n",
       "        text-align: right;\n",
       "    }\n",
       "</style>\n",
       "<table border=\"1\" class=\"dataframe\">\n",
       "  <thead>\n",
       "    <tr style=\"text-align: right;\">\n",
       "      <th></th>\n",
       "      <th>user</th>\n",
       "      <th>subreddit</th>\n",
       "      <th>count</th>\n",
       "      <th>num_subscribers</th>\n",
       "      <th>over18</th>\n",
       "      <th>public_description</th>\n",
       "    </tr>\n",
       "  </thead>\n",
       "  <tbody>\n",
       "    <tr>\n",
       "      <th>0</th>\n",
       "      <td>------Username------</td>\n",
       "      <td>AskReddit</td>\n",
       "      <td>20</td>\n",
       "      <td>32374022.0</td>\n",
       "      <td>False</td>\n",
       "      <td>r/AskReddit is the place to ask and answer tho...</td>\n",
       "    </tr>\n",
       "    <tr>\n",
       "      <th>1</th>\n",
       "      <td>----Michel----</td>\n",
       "      <td>AskReddit</td>\n",
       "      <td>6</td>\n",
       "      <td>32374022.0</td>\n",
       "      <td>False</td>\n",
       "      <td>r/AskReddit is the place to ask and answer tho...</td>\n",
       "    </tr>\n",
       "    <tr>\n",
       "      <th>2</th>\n",
       "      <td>----petrichor----</td>\n",
       "      <td>AskReddit</td>\n",
       "      <td>31</td>\n",
       "      <td>32374022.0</td>\n",
       "      <td>False</td>\n",
       "      <td>r/AskReddit is the place to ask and answer tho...</td>\n",
       "    </tr>\n",
       "    <tr>\n",
       "      <th>3</th>\n",
       "      <td>--Anarchaeopteryx--</td>\n",
       "      <td>AskReddit</td>\n",
       "      <td>1</td>\n",
       "      <td>32374022.0</td>\n",
       "      <td>False</td>\n",
       "      <td>r/AskReddit is the place to ask and answer tho...</td>\n",
       "    </tr>\n",
       "    <tr>\n",
       "      <th>4</th>\n",
       "      <td>--Orchid--</td>\n",
       "      <td>AskReddit</td>\n",
       "      <td>84</td>\n",
       "      <td>32374022.0</td>\n",
       "      <td>False</td>\n",
       "      <td>r/AskReddit is the place to ask and answer tho...</td>\n",
       "    </tr>\n",
       "    <tr>\n",
       "      <th>...</th>\n",
       "      <td>...</td>\n",
       "      <td>...</td>\n",
       "      <td>...</td>\n",
       "      <td>...</td>\n",
       "      <td>...</td>\n",
       "      <td>...</td>\n",
       "    </tr>\n",
       "    <tr>\n",
       "      <th>1646701</th>\n",
       "      <td>zynu</td>\n",
       "      <td>developer</td>\n",
       "      <td>1</td>\n",
       "      <td>10632.0</td>\n",
       "      <td>False</td>\n",
       "      <td>The home for developers. Post your projects, g...</td>\n",
       "    </tr>\n",
       "    <tr>\n",
       "      <th>1646702</th>\n",
       "      <td>zzreywasol</td>\n",
       "      <td>SubaruOldSchool</td>\n",
       "      <td>2</td>\n",
       "      <td>221.0</td>\n",
       "      <td>False</td>\n",
       "      <td>A place for older Subarus in all their glory. ...</td>\n",
       "    </tr>\n",
       "    <tr>\n",
       "      <th>1646703</th>\n",
       "      <td>zzzayah</td>\n",
       "      <td>DylanPierce</td>\n",
       "      <td>3</td>\n",
       "      <td>5.0</td>\n",
       "      <td>False</td>\n",
       "      <td>Dylan Pierce happy sad Brennan Smith scary man</td>\n",
       "    </tr>\n",
       "    <tr>\n",
       "      <th>1646704</th>\n",
       "      <td>zzzayah</td>\n",
       "      <td>Zynn</td>\n",
       "      <td>1</td>\n",
       "      <td>1955.0</td>\n",
       "      <td>False</td>\n",
       "      <td>Hello! This is a community all about Zynn! Ple...</td>\n",
       "    </tr>\n",
       "    <tr>\n",
       "      <th>1646705</th>\n",
       "      <td>zzzayah</td>\n",
       "      <td>actualeyebleach</td>\n",
       "      <td>1</td>\n",
       "      <td>17.0</td>\n",
       "      <td>False</td>\n",
       "      <td>Bleach being poured into eyes</td>\n",
       "    </tr>\n",
       "  </tbody>\n",
       "</table>\n",
       "<p>1646706 rows × 6 columns</p>\n",
       "</div>"
      ],
      "text/plain": [
       "                         user        subreddit  count  num_subscribers  \\\n",
       "0        ------Username------        AskReddit     20       32374022.0   \n",
       "1              ----Michel----        AskReddit      6       32374022.0   \n",
       "2           ----petrichor----        AskReddit     31       32374022.0   \n",
       "3         --Anarchaeopteryx--        AskReddit      1       32374022.0   \n",
       "4                  --Orchid--        AskReddit     84       32374022.0   \n",
       "...                       ...              ...    ...              ...   \n",
       "1646701                  zynu        developer      1          10632.0   \n",
       "1646702            zzreywasol  SubaruOldSchool      2            221.0   \n",
       "1646703               zzzayah      DylanPierce      3              5.0   \n",
       "1646704               zzzayah             Zynn      1           1955.0   \n",
       "1646705               zzzayah  actualeyebleach      1             17.0   \n",
       "\n",
       "         over18                                 public_description  \n",
       "0         False  r/AskReddit is the place to ask and answer tho...  \n",
       "1         False  r/AskReddit is the place to ask and answer tho...  \n",
       "2         False  r/AskReddit is the place to ask and answer tho...  \n",
       "3         False  r/AskReddit is the place to ask and answer tho...  \n",
       "4         False  r/AskReddit is the place to ask and answer tho...  \n",
       "...         ...                                                ...  \n",
       "1646701   False  The home for developers. Post your projects, g...  \n",
       "1646702   False  A place for older Subarus in all their glory. ...  \n",
       "1646703   False     Dylan Pierce happy sad Brennan Smith scary man  \n",
       "1646704   False  Hello! This is a community all about Zynn! Ple...  \n",
       "1646705   False                      Bleach being poured into eyes  \n",
       "\n",
       "[1646706 rows x 6 columns]"
      ]
     },
     "execution_count": 5,
     "metadata": {},
     "output_type": "execute_result"
    }
   ],
   "source": [
    "test = reddit_user_data.merge(subreddit_data)\n",
    "test"
   ]
  },
  {
   "cell_type": "code",
   "execution_count": 6,
   "metadata": {},
   "outputs": [
    {
     "data": {
      "text/html": [
       "<div>\n",
       "<style scoped>\n",
       "    .dataframe tbody tr th:only-of-type {\n",
       "        vertical-align: middle;\n",
       "    }\n",
       "\n",
       "    .dataframe tbody tr th {\n",
       "        vertical-align: top;\n",
       "    }\n",
       "\n",
       "    .dataframe thead th {\n",
       "        text-align: right;\n",
       "    }\n",
       "</style>\n",
       "<table border=\"1\" class=\"dataframe\">\n",
       "  <thead>\n",
       "    <tr style=\"text-align: right;\">\n",
       "      <th></th>\n",
       "      <th>Total</th>\n",
       "      <th>Percent</th>\n",
       "    </tr>\n",
       "  </thead>\n",
       "  <tbody>\n",
       "    <tr>\n",
       "      <th>public_description</th>\n",
       "      <td>0</td>\n",
       "      <td>0.0</td>\n",
       "    </tr>\n",
       "    <tr>\n",
       "      <th>over18</th>\n",
       "      <td>0</td>\n",
       "      <td>0.0</td>\n",
       "    </tr>\n",
       "    <tr>\n",
       "      <th>num_subscribers</th>\n",
       "      <td>0</td>\n",
       "      <td>0.0</td>\n",
       "    </tr>\n",
       "    <tr>\n",
       "      <th>count</th>\n",
       "      <td>0</td>\n",
       "      <td>0.0</td>\n",
       "    </tr>\n",
       "    <tr>\n",
       "      <th>subreddit</th>\n",
       "      <td>0</td>\n",
       "      <td>0.0</td>\n",
       "    </tr>\n",
       "    <tr>\n",
       "      <th>user</th>\n",
       "      <td>0</td>\n",
       "      <td>0.0</td>\n",
       "    </tr>\n",
       "  </tbody>\n",
       "</table>\n",
       "</div>"
      ],
      "text/plain": [
       "                    Total  Percent\n",
       "public_description      0      0.0\n",
       "over18                  0      0.0\n",
       "num_subscribers         0      0.0\n",
       "count                   0      0.0\n",
       "subreddit               0      0.0\n",
       "user                    0      0.0"
      ]
     },
     "execution_count": 6,
     "metadata": {},
     "output_type": "execute_result"
    }
   ],
   "source": [
    "#check for null values\n",
    "total = test.isnull().sum().sort_values(ascending=False)\n",
    "percent = (test.isnull().sum()/test.isnull().count()).sort_values(ascending = False)\n",
    "missing_data = pd.concat([total, percent],axis=1, keys=['Total', 'Percent'])\n",
    "missing_data.head(20)"
   ]
  },
  {
   "cell_type": "code",
   "execution_count": 11,
   "metadata": {},
   "outputs": [
    {
     "data": {
      "text/plain": [
       "'r/AskReddit is the place to ask and answer thought-provoking questions.'"
      ]
     },
     "execution_count": 11,
     "metadata": {},
     "output_type": "execute_result"
    }
   ],
   "source": [
    "test['public_description'][0]"
   ]
  },
  {
   "cell_type": "markdown",
   "metadata": {},
   "source": [
    "Create word vector representation for the public_description. \\\n",
    "The goal if to reduce the importance of words that frequently occur in plot overviews and, therefore, \n",
    "their significance in computing the final similarity score\n",
    "** I may have to deleite the /r from the sentence\n"
   ]
  },
  {
   "cell_type": "code",
   "execution_count": null,
   "metadata": {},
   "outputs": [],
   "source": []
  },
  {
   "cell_type": "code",
   "execution_count": null,
   "metadata": {},
   "outputs": [],
   "source": []
  },
  {
   "cell_type": "code",
   "execution_count": null,
   "metadata": {},
   "outputs": [],
   "source": []
  },
  {
   "cell_type": "code",
   "execution_count": null,
   "metadata": {},
   "outputs": [],
   "source": []
  },
  {
   "cell_type": "code",
   "execution_count": null,
   "metadata": {},
   "outputs": [],
   "source": []
  },
  {
   "cell_type": "code",
   "execution_count": null,
   "metadata": {},
   "outputs": [],
   "source": []
  },
  {
   "cell_type": "code",
   "execution_count": null,
   "metadata": {},
   "outputs": [],
   "source": []
  },
  {
   "cell_type": "code",
   "execution_count": 13,
   "metadata": {},
   "outputs": [],
   "source": [
    "# remove all english stop words\n",
    "tfidf = TfidfVectorizer(stop_words='english')\n",
    "\n",
    "#Construct the required TF-IDF matrix by fitting and transforming the data\n",
    "tfidf_matrix = tfidf.fit_transform(test['public_description'])"
   ]
  },
  {
   "cell_type": "code",
   "execution_count": 17,
   "metadata": {},
   "outputs": [
    {
     "ename": "RuntimeError",
     "evalue": "nnz of the result is too large",
     "output_type": "error",
     "traceback": [
      "\u001b[1;31m---------------------------------------------------------------------------\u001b[0m",
      "\u001b[1;31mRuntimeError\u001b[0m                              Traceback (most recent call last)",
      "\u001b[1;32m<ipython-input-17-5231b478f293>\u001b[0m in \u001b[0;36m<module>\u001b[1;34m\u001b[0m\n\u001b[0;32m      1\u001b[0m \u001b[1;31m# Compute the cosine similarity matrix\u001b[0m\u001b[1;33m\u001b[0m\u001b[1;33m\u001b[0m\u001b[1;33m\u001b[0m\u001b[0m\n\u001b[1;32m----> 2\u001b[1;33m \u001b[0mcosine_sim\u001b[0m \u001b[1;33m=\u001b[0m \u001b[0mlinear_kernel\u001b[0m\u001b[1;33m(\u001b[0m\u001b[0mtfidf_matrix\u001b[0m\u001b[1;33m,\u001b[0m \u001b[0mtfidf_matrix\u001b[0m\u001b[1;33m)\u001b[0m\u001b[1;33m\u001b[0m\u001b[1;33m\u001b[0m\u001b[0m\n\u001b[0m",
      "\u001b[1;32m~\\anaconda3\\lib\\site-packages\\sklearn\\metrics\\pairwise.py\u001b[0m in \u001b[0;36mlinear_kernel\u001b[1;34m(X, Y, dense_output)\u001b[0m\n\u001b[0;32m   1001\u001b[0m     \"\"\"\n\u001b[0;32m   1002\u001b[0m     \u001b[0mX\u001b[0m\u001b[1;33m,\u001b[0m \u001b[0mY\u001b[0m \u001b[1;33m=\u001b[0m \u001b[0mcheck_pairwise_arrays\u001b[0m\u001b[1;33m(\u001b[0m\u001b[0mX\u001b[0m\u001b[1;33m,\u001b[0m \u001b[0mY\u001b[0m\u001b[1;33m)\u001b[0m\u001b[1;33m\u001b[0m\u001b[1;33m\u001b[0m\u001b[0m\n\u001b[1;32m-> 1003\u001b[1;33m     \u001b[1;32mreturn\u001b[0m \u001b[0msafe_sparse_dot\u001b[0m\u001b[1;33m(\u001b[0m\u001b[0mX\u001b[0m\u001b[1;33m,\u001b[0m \u001b[0mY\u001b[0m\u001b[1;33m.\u001b[0m\u001b[0mT\u001b[0m\u001b[1;33m,\u001b[0m \u001b[0mdense_output\u001b[0m\u001b[1;33m=\u001b[0m\u001b[0mdense_output\u001b[0m\u001b[1;33m)\u001b[0m\u001b[1;33m\u001b[0m\u001b[1;33m\u001b[0m\u001b[0m\n\u001b[0m\u001b[0;32m   1004\u001b[0m \u001b[1;33m\u001b[0m\u001b[0m\n\u001b[0;32m   1005\u001b[0m \u001b[1;33m\u001b[0m\u001b[0m\n",
      "\u001b[1;32m~\\anaconda3\\lib\\site-packages\\sklearn\\utils\\validation.py\u001b[0m in \u001b[0;36minner_f\u001b[1;34m(*args, **kwargs)\u001b[0m\n\u001b[0;32m     71\u001b[0m                           FutureWarning)\n\u001b[0;32m     72\u001b[0m         \u001b[0mkwargs\u001b[0m\u001b[1;33m.\u001b[0m\u001b[0mupdate\u001b[0m\u001b[1;33m(\u001b[0m\u001b[1;33m{\u001b[0m\u001b[0mk\u001b[0m\u001b[1;33m:\u001b[0m \u001b[0marg\u001b[0m \u001b[1;32mfor\u001b[0m \u001b[0mk\u001b[0m\u001b[1;33m,\u001b[0m \u001b[0marg\u001b[0m \u001b[1;32min\u001b[0m \u001b[0mzip\u001b[0m\u001b[1;33m(\u001b[0m\u001b[0msig\u001b[0m\u001b[1;33m.\u001b[0m\u001b[0mparameters\u001b[0m\u001b[1;33m,\u001b[0m \u001b[0margs\u001b[0m\u001b[1;33m)\u001b[0m\u001b[1;33m}\u001b[0m\u001b[1;33m)\u001b[0m\u001b[1;33m\u001b[0m\u001b[1;33m\u001b[0m\u001b[0m\n\u001b[1;32m---> 73\u001b[1;33m         \u001b[1;32mreturn\u001b[0m \u001b[0mf\u001b[0m\u001b[1;33m(\u001b[0m\u001b[1;33m**\u001b[0m\u001b[0mkwargs\u001b[0m\u001b[1;33m)\u001b[0m\u001b[1;33m\u001b[0m\u001b[1;33m\u001b[0m\u001b[0m\n\u001b[0m\u001b[0;32m     74\u001b[0m     \u001b[1;32mreturn\u001b[0m \u001b[0minner_f\u001b[0m\u001b[1;33m\u001b[0m\u001b[1;33m\u001b[0m\u001b[0m\n\u001b[0;32m     75\u001b[0m \u001b[1;33m\u001b[0m\u001b[0m\n",
      "\u001b[1;32m~\\anaconda3\\lib\\site-packages\\sklearn\\utils\\extmath.py\u001b[0m in \u001b[0;36msafe_sparse_dot\u001b[1;34m(a, b, dense_output)\u001b[0m\n\u001b[0;32m    151\u001b[0m             \u001b[0mret\u001b[0m \u001b[1;33m=\u001b[0m \u001b[0mnp\u001b[0m\u001b[1;33m.\u001b[0m\u001b[0mdot\u001b[0m\u001b[1;33m(\u001b[0m\u001b[0ma\u001b[0m\u001b[1;33m,\u001b[0m \u001b[0mb\u001b[0m\u001b[1;33m)\u001b[0m\u001b[1;33m\u001b[0m\u001b[1;33m\u001b[0m\u001b[0m\n\u001b[0;32m    152\u001b[0m     \u001b[1;32melse\u001b[0m\u001b[1;33m:\u001b[0m\u001b[1;33m\u001b[0m\u001b[1;33m\u001b[0m\u001b[0m\n\u001b[1;32m--> 153\u001b[1;33m         \u001b[0mret\u001b[0m \u001b[1;33m=\u001b[0m \u001b[0ma\u001b[0m \u001b[1;33m@\u001b[0m \u001b[0mb\u001b[0m\u001b[1;33m\u001b[0m\u001b[1;33m\u001b[0m\u001b[0m\n\u001b[0m\u001b[0;32m    154\u001b[0m \u001b[1;33m\u001b[0m\u001b[0m\n\u001b[0;32m    155\u001b[0m     if (sparse.issparse(a) and sparse.issparse(b)\n",
      "\u001b[1;32m~\\anaconda3\\lib\\site-packages\\scipy\\sparse\\base.py\u001b[0m in \u001b[0;36m__matmul__\u001b[1;34m(self, other)\u001b[0m\n\u001b[0;32m    558\u001b[0m             raise ValueError(\"Scalar operands are not allowed, \"\n\u001b[0;32m    559\u001b[0m                              \"use '*' instead\")\n\u001b[1;32m--> 560\u001b[1;33m         \u001b[1;32mreturn\u001b[0m \u001b[0mself\u001b[0m\u001b[1;33m.\u001b[0m\u001b[0m__mul__\u001b[0m\u001b[1;33m(\u001b[0m\u001b[0mother\u001b[0m\u001b[1;33m)\u001b[0m\u001b[1;33m\u001b[0m\u001b[1;33m\u001b[0m\u001b[0m\n\u001b[0m\u001b[0;32m    561\u001b[0m \u001b[1;33m\u001b[0m\u001b[0m\n\u001b[0;32m    562\u001b[0m     \u001b[1;32mdef\u001b[0m \u001b[0m__rmatmul__\u001b[0m\u001b[1;33m(\u001b[0m\u001b[0mself\u001b[0m\u001b[1;33m,\u001b[0m \u001b[0mother\u001b[0m\u001b[1;33m)\u001b[0m\u001b[1;33m:\u001b[0m\u001b[1;33m\u001b[0m\u001b[1;33m\u001b[0m\u001b[0m\n",
      "\u001b[1;32m~\\anaconda3\\lib\\site-packages\\scipy\\sparse\\base.py\u001b[0m in \u001b[0;36m__mul__\u001b[1;34m(self, other)\u001b[0m\n\u001b[0;32m    478\u001b[0m             \u001b[1;32mif\u001b[0m \u001b[0mself\u001b[0m\u001b[1;33m.\u001b[0m\u001b[0mshape\u001b[0m\u001b[1;33m[\u001b[0m\u001b[1;36m1\u001b[0m\u001b[1;33m]\u001b[0m \u001b[1;33m!=\u001b[0m \u001b[0mother\u001b[0m\u001b[1;33m.\u001b[0m\u001b[0mshape\u001b[0m\u001b[1;33m[\u001b[0m\u001b[1;36m0\u001b[0m\u001b[1;33m]\u001b[0m\u001b[1;33m:\u001b[0m\u001b[1;33m\u001b[0m\u001b[1;33m\u001b[0m\u001b[0m\n\u001b[0;32m    479\u001b[0m                 \u001b[1;32mraise\u001b[0m \u001b[0mValueError\u001b[0m\u001b[1;33m(\u001b[0m\u001b[1;34m'dimension mismatch'\u001b[0m\u001b[1;33m)\u001b[0m\u001b[1;33m\u001b[0m\u001b[1;33m\u001b[0m\u001b[0m\n\u001b[1;32m--> 480\u001b[1;33m             \u001b[1;32mreturn\u001b[0m \u001b[0mself\u001b[0m\u001b[1;33m.\u001b[0m\u001b[0m_mul_sparse_matrix\u001b[0m\u001b[1;33m(\u001b[0m\u001b[0mother\u001b[0m\u001b[1;33m)\u001b[0m\u001b[1;33m\u001b[0m\u001b[1;33m\u001b[0m\u001b[0m\n\u001b[0m\u001b[0;32m    481\u001b[0m \u001b[1;33m\u001b[0m\u001b[0m\n\u001b[0;32m    482\u001b[0m         \u001b[1;31m# If it's a list or whatever, treat it like a matrix\u001b[0m\u001b[1;33m\u001b[0m\u001b[1;33m\u001b[0m\u001b[1;33m\u001b[0m\u001b[0m\n",
      "\u001b[1;32m~\\anaconda3\\lib\\site-packages\\scipy\\sparse\\compressed.py\u001b[0m in \u001b[0;36m_mul_sparse_matrix\u001b[1;34m(self, other)\u001b[0m\n\u001b[0;32m    503\u001b[0m \u001b[1;33m\u001b[0m\u001b[0m\n\u001b[0;32m    504\u001b[0m         \u001b[0mfn\u001b[0m \u001b[1;33m=\u001b[0m \u001b[0mgetattr\u001b[0m\u001b[1;33m(\u001b[0m\u001b[0m_sparsetools\u001b[0m\u001b[1;33m,\u001b[0m \u001b[0mself\u001b[0m\u001b[1;33m.\u001b[0m\u001b[0mformat\u001b[0m \u001b[1;33m+\u001b[0m \u001b[1;34m'_matmat_maxnnz'\u001b[0m\u001b[1;33m)\u001b[0m\u001b[1;33m\u001b[0m\u001b[1;33m\u001b[0m\u001b[0m\n\u001b[1;32m--> 505\u001b[1;33m         nnz = fn(M, N,\n\u001b[0m\u001b[0;32m    506\u001b[0m                  \u001b[0mnp\u001b[0m\u001b[1;33m.\u001b[0m\u001b[0masarray\u001b[0m\u001b[1;33m(\u001b[0m\u001b[0mself\u001b[0m\u001b[1;33m.\u001b[0m\u001b[0mindptr\u001b[0m\u001b[1;33m,\u001b[0m \u001b[0mdtype\u001b[0m\u001b[1;33m=\u001b[0m\u001b[0midx_dtype\u001b[0m\u001b[1;33m)\u001b[0m\u001b[1;33m,\u001b[0m\u001b[1;33m\u001b[0m\u001b[1;33m\u001b[0m\u001b[0m\n\u001b[0;32m    507\u001b[0m                  \u001b[0mnp\u001b[0m\u001b[1;33m.\u001b[0m\u001b[0masarray\u001b[0m\u001b[1;33m(\u001b[0m\u001b[0mself\u001b[0m\u001b[1;33m.\u001b[0m\u001b[0mindices\u001b[0m\u001b[1;33m,\u001b[0m \u001b[0mdtype\u001b[0m\u001b[1;33m=\u001b[0m\u001b[0midx_dtype\u001b[0m\u001b[1;33m)\u001b[0m\u001b[1;33m,\u001b[0m\u001b[1;33m\u001b[0m\u001b[1;33m\u001b[0m\u001b[0m\n",
      "\u001b[1;31mRuntimeError\u001b[0m: nnz of the result is too large"
     ]
    }
   ],
   "source": [
    "# Compute the cosine similarity matrix\n",
    "cosine_sim = linear_kernel(tfidf_matrix, tfidf_matrix)"
   ]
  },
  {
   "cell_type": "code",
   "execution_count": null,
   "metadata": {},
   "outputs": [],
   "source": [
    "cosine_sim.shape"
   ]
  },
  {
   "cell_type": "code",
   "execution_count": null,
   "metadata": {},
   "outputs": [],
   "source": []
  },
  {
   "cell_type": "code",
   "execution_count": null,
   "metadata": {},
   "outputs": [],
   "source": []
  },
  {
   "cell_type": "code",
   "execution_count": 9,
   "metadata": {},
   "outputs": [],
   "source": [
    "# # create new collumn (Over18) reddit_user_data \n",
    "# for subreddit in reddit_user_data['subreddit']:\n",
    "#     if subreddit in subreddit_data['subreddit']:\n",
    "#         reddit_user_data['over18'] = subreddit_data['subreddit']\n",
    "#     else: reddit_user_data['over18'] = 'NaoTem'\n"
   ]
  },
  {
   "cell_type": "code",
   "execution_count": null,
   "metadata": {},
   "outputs": [],
   "source": [
    "reddit_user_data.head() "
   ]
  }
 ],
 "metadata": {
  "kernelspec": {
   "display_name": "Python 3",
   "language": "python",
   "name": "python3"
  },
  "language_info": {
   "codemirror_mode": {
    "name": "ipython",
    "version": 3
   },
   "file_extension": ".py",
   "mimetype": "text/x-python",
   "name": "python",
   "nbconvert_exporter": "python",
   "pygments_lexer": "ipython3",
   "version": "3.8.3"
  }
 },
 "nbformat": 4,
 "nbformat_minor": 4
}
